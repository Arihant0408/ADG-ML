{
 "cells": [
  {
   "cell_type": "code",
   "execution_count": 1,
   "metadata": {},
   "outputs": [],
   "source": [
    "import pandas as pd\n",
    "import numpy as np"
   ]
  },
  {
   "cell_type": "markdown",
   "metadata": {},
   "source": [
    "## Data Preprocessing"
   ]
  },
  {
   "cell_type": "code",
   "execution_count": 2,
   "metadata": {},
   "outputs": [
    {
     "data": {
      "text/html": [
       "<div>\n",
       "<style scoped>\n",
       "    .dataframe tbody tr th:only-of-type {\n",
       "        vertical-align: middle;\n",
       "    }\n",
       "\n",
       "    .dataframe tbody tr th {\n",
       "        vertical-align: top;\n",
       "    }\n",
       "\n",
       "    .dataframe thead th {\n",
       "        text-align: right;\n",
       "    }\n",
       "</style>\n",
       "<table border=\"1\" class=\"dataframe\">\n",
       "  <thead>\n",
       "    <tr style=\"text-align: right;\">\n",
       "      <th></th>\n",
       "      <th>people_ID</th>\n",
       "      <th>Region</th>\n",
       "      <th>Gender</th>\n",
       "      <th>Designation</th>\n",
       "      <th>Name</th>\n",
       "      <th>Married</th>\n",
       "      <th>Children</th>\n",
       "      <th>Occupation</th>\n",
       "      <th>Mode_transport</th>\n",
       "      <th>cases/1M</th>\n",
       "      <th>...</th>\n",
       "      <th>HBB</th>\n",
       "      <th>d-dimer</th>\n",
       "      <th>Heart rate</th>\n",
       "      <th>HDL cholesterol</th>\n",
       "      <th>Charlson Index</th>\n",
       "      <th>Blood Glucose</th>\n",
       "      <th>Insurance</th>\n",
       "      <th>salary</th>\n",
       "      <th>FT/month</th>\n",
       "      <th>Infect_Prob</th>\n",
       "    </tr>\n",
       "  </thead>\n",
       "  <tbody>\n",
       "    <tr>\n",
       "      <td>10709</td>\n",
       "      <td>22691</td>\n",
       "      <td>Bengaluru</td>\n",
       "      <td>Male</td>\n",
       "      <td>Mr</td>\n",
       "      <td>ashish</td>\n",
       "      <td>NO</td>\n",
       "      <td>2.0</td>\n",
       "      <td>Business</td>\n",
       "      <td>Car</td>\n",
       "      <td>8</td>\n",
       "      <td>...</td>\n",
       "      <td>24.0</td>\n",
       "      <td>209.0</td>\n",
       "      <td>61.0</td>\n",
       "      <td>56.0</td>\n",
       "      <td>35</td>\n",
       "      <td>7</td>\n",
       "      <td>4000000.0</td>\n",
       "      <td>300000</td>\n",
       "      <td>0.0</td>\n",
       "      <td>41.981760</td>\n",
       "    </tr>\n",
       "    <tr>\n",
       "      <td>10710</td>\n",
       "      <td>22692</td>\n",
       "      <td>Bengaluru</td>\n",
       "      <td>Male</td>\n",
       "      <td>Mr</td>\n",
       "      <td>mohd mujahid ansari</td>\n",
       "      <td>YES</td>\n",
       "      <td>0.0</td>\n",
       "      <td>Manufacturing</td>\n",
       "      <td>Car</td>\n",
       "      <td>8</td>\n",
       "      <td>...</td>\n",
       "      <td>134.0</td>\n",
       "      <td>211.0</td>\n",
       "      <td>65.0</td>\n",
       "      <td>47.0</td>\n",
       "      <td>35</td>\n",
       "      <td>7</td>\n",
       "      <td>1500000.0</td>\n",
       "      <td>700000</td>\n",
       "      <td>NaN</td>\n",
       "      <td>47.148663</td>\n",
       "    </tr>\n",
       "    <tr>\n",
       "      <td>10711</td>\n",
       "      <td>22693</td>\n",
       "      <td>Bengaluru</td>\n",
       "      <td>Male</td>\n",
       "      <td>Mr</td>\n",
       "      <td>munnakumar</td>\n",
       "      <td>YES</td>\n",
       "      <td>0.0</td>\n",
       "      <td>Clerk</td>\n",
       "      <td>Public</td>\n",
       "      <td>8</td>\n",
       "      <td>...</td>\n",
       "      <td>151.0</td>\n",
       "      <td>296.0</td>\n",
       "      <td>87.0</td>\n",
       "      <td>37.0</td>\n",
       "      <td>16</td>\n",
       "      <td>5</td>\n",
       "      <td>3000000.0</td>\n",
       "      <td>2100000</td>\n",
       "      <td>2.0</td>\n",
       "      <td>47.708533</td>\n",
       "    </tr>\n",
       "    <tr>\n",
       "      <td>10712</td>\n",
       "      <td>22694</td>\n",
       "      <td>Bengaluru</td>\n",
       "      <td>Male</td>\n",
       "      <td>Mr</td>\n",
       "      <td>prakash</td>\n",
       "      <td>YES</td>\n",
       "      <td>1.0</td>\n",
       "      <td>Legal</td>\n",
       "      <td>Walk</td>\n",
       "      <td>8</td>\n",
       "      <td>...</td>\n",
       "      <td>110.0</td>\n",
       "      <td>253.0</td>\n",
       "      <td>56.0</td>\n",
       "      <td>70.0</td>\n",
       "      <td>28</td>\n",
       "      <td>5</td>\n",
       "      <td>2900000.0</td>\n",
       "      <td>700000</td>\n",
       "      <td>1.0</td>\n",
       "      <td>53.803565</td>\n",
       "    </tr>\n",
       "    <tr>\n",
       "      <td>10713</td>\n",
       "      <td>22695</td>\n",
       "      <td>Bengaluru</td>\n",
       "      <td>Male</td>\n",
       "      <td>Mr</td>\n",
       "      <td>mehboob mehandi</td>\n",
       "      <td>NO</td>\n",
       "      <td>2.0</td>\n",
       "      <td>Business</td>\n",
       "      <td>Car</td>\n",
       "      <td>8</td>\n",
       "      <td>...</td>\n",
       "      <td>134.0</td>\n",
       "      <td>201.0</td>\n",
       "      <td>82.0</td>\n",
       "      <td>60.0</td>\n",
       "      <td>4</td>\n",
       "      <td>3</td>\n",
       "      <td>2100000.0</td>\n",
       "      <td>1400000</td>\n",
       "      <td>0.0</td>\n",
       "      <td>68.342400</td>\n",
       "    </tr>\n",
       "  </tbody>\n",
       "</table>\n",
       "<p>5 rows × 28 columns</p>\n",
       "</div>"
      ],
      "text/plain": [
       "       people_ID     Region Gender Designation                 Name Married  \\\n",
       "10709      22691  Bengaluru   Male          Mr               ashish      NO   \n",
       "10710      22692  Bengaluru   Male          Mr  mohd mujahid ansari     YES   \n",
       "10711      22693  Bengaluru   Male          Mr           munnakumar     YES   \n",
       "10712      22694  Bengaluru   Male          Mr              prakash     YES   \n",
       "10713      22695  Bengaluru   Male          Mr      mehboob mehandi      NO   \n",
       "\n",
       "       Children     Occupation Mode_transport  cases/1M  ...    HBB d-dimer  \\\n",
       "10709       2.0       Business            Car         8  ...   24.0   209.0   \n",
       "10710       0.0  Manufacturing            Car         8  ...  134.0   211.0   \n",
       "10711       0.0          Clerk         Public         8  ...  151.0   296.0   \n",
       "10712       1.0          Legal           Walk         8  ...  110.0   253.0   \n",
       "10713       2.0       Business            Car         8  ...  134.0   201.0   \n",
       "\n",
       "       Heart rate  HDL cholesterol Charlson Index Blood Glucose  Insurance  \\\n",
       "10709        61.0             56.0             35             7  4000000.0   \n",
       "10710        65.0             47.0             35             7  1500000.0   \n",
       "10711        87.0             37.0             16             5  3000000.0   \n",
       "10712        56.0             70.0             28             5  2900000.0   \n",
       "10713        82.0             60.0              4             3  2100000.0   \n",
       "\n",
       "        salary  FT/month  Infect_Prob  \n",
       "10709   300000       0.0    41.981760  \n",
       "10710   700000       NaN    47.148663  \n",
       "10711  2100000       2.0    47.708533  \n",
       "10712   700000       1.0    53.803565  \n",
       "10713  1400000       0.0    68.342400  \n",
       "\n",
       "[5 rows x 28 columns]"
      ]
     },
     "execution_count": 2,
     "metadata": {},
     "output_type": "execute_result"
    }
   ],
   "source": [
    "data = pd.read_csv('corona_dataset.csv')\n",
    "data.tail()\n"
   ]
  },
  {
   "cell_type": "code",
   "execution_count": 3,
   "metadata": {},
   "outputs": [],
   "source": [
    "\"\"\" \n",
    "perfrom data preprocessing on 'data' Dataframe\n",
    "The final dataframe must be named data\n",
    "eg .... data =  {preprocessed data}    \n",
    "\n",
    "\"\"\"\n",
    "data[\"Infect_Prob\"]=(data[\"Infect_Prob\"]-data[\"Infect_Prob\"].min())/(data[\"Infect_Prob\"].max()-data[\"Infect_Prob\"].min())\n",
    "\"\"\"normalising the Infect prob data\"\"\"\n",
    "data=data.dropna()\n",
    "\n",
    "\n",
    "\n"
   ]
  },
  {
   "cell_type": "code",
   "execution_count": null,
   "metadata": {},
   "outputs": [],
   "source": [
    "\n",
    "\"\"\"to make all the columns visible for further operations\"\"\"\n",
    "pd.set_option(\"display.max_columns\",None)\n",
    "\"\"\"convert all string data type values to numeric values for the regressor function to work\"\"\"\n",
    "data.replace(to_replace=[\"Bhubaneshwar\",\"Chandigarh\",'Chennai','Delhi','Bengaluru'],value=[0,1,2,3,4],inplace=True)\n",
    "data.replace(to_replace=[\"Female\",\"Male\"],value=[0,1],inplace=True)\n",
    "data.replace(to_replace=[\"Mrs\",\"Mr\"],value=[0,1],inplace=True)\n",
    "data.replace(to_replace=[\"YES\",\"NO\"],value=[1,0],inplace=True)\n",
    "data.replace(to_replace=['Farmer', 'Cleaner', 'Driver', 'Manufacturing', 'Clerk','Business', 'Sales', 'Researcher', 'Legal'],value=[0,1,2,3,4,5,6,7,8],inplace=True)\n",
    "data.replace(to_replace=['Public', 'Car', 'Walk'],value=[0,1,2],inplace=True)\n",
    "data.replace(to_replace=['Hypertension', 'None', 'Coronary Heart Disease', 'Diabetes'],value=[1,0,2,3],inplace=True)\n",
    "data.replace(to_replace=['<400', '<300', '<200', '<100'],value=[4,3,2,1],inplace=True)\n",
    "data.replace(to_replace=['Normal', 'Elevated', 'Stage-01', 'Stage-02'],value=[-1,0,1,2],inplace=True)\n",
    "data.set_index(\"Name\",inplace=True)\n"
   ]
  },
  {
   "cell_type": "code",
   "execution_count": 5,
   "metadata": {},
   "outputs": [],
   "source": [
    "\"\"\" separating features and target \"\"\"\n",
    "\n",
    "Y = data['Infect_Prob']\n",
    "X = data.drop(['Infect_Prob'],axis=1)"
   ]
  },
  {
   "cell_type": "code",
   "execution_count": 6,
   "metadata": {},
   "outputs": [
    {
     "name": "stdout",
     "output_type": "stream",
     "text": [
      "Training Size :  (5082, 26)\n",
      "Testing Size :  (1695, 26)\n"
     ]
    }
   ],
   "source": [
    "from sklearn.model_selection import train_test_split\n",
    "\n",
    "train_X,test_X,train_Y,test_Y = train_test_split(X,Y)\n",
    "\n",
    "print(\"Training Size : \",train_X.shape)\n",
    "print(\"Testing Size : \",test_X.shape)"
   ]
  },
  {
   "cell_type": "markdown",
   "metadata": {},
   "source": [
    "### Regression to predict the probability of Corona Infection"
   ]
  },
  {
   "cell_type": "code",
   "execution_count": 7,
   "metadata": {},
   "outputs": [],
   "source": [
    "from sklearn.ensemble import RandomForestRegressor\n",
    "regressor = RandomForestRegressor()"
   ]
  },
  {
   "cell_type": "code",
   "execution_count": 8,
   "metadata": {},
   "outputs": [
    {
     "name": "stderr",
     "output_type": "stream",
     "text": [
      "C:\\Users\\User\\Anaconda3\\lib\\site-packages\\sklearn\\ensemble\\forest.py:245: FutureWarning: The default value of n_estimators will change from 10 in version 0.20 to 100 in 0.22.\n",
      "  \"10 in version 0.20 to 100 in 0.22.\", FutureWarning)\n"
     ]
    },
    {
     "data": {
      "text/plain": [
       "RandomForestRegressor(bootstrap=True, criterion='mse', max_depth=None,\n",
       "                      max_features='auto', max_leaf_nodes=None,\n",
       "                      min_impurity_decrease=0.0, min_impurity_split=None,\n",
       "                      min_samples_leaf=1, min_samples_split=2,\n",
       "                      min_weight_fraction_leaf=0.0, n_estimators=10,\n",
       "                      n_jobs=None, oob_score=False, random_state=None,\n",
       "                      verbose=0, warm_start=False)"
      ]
     },
     "execution_count": 8,
     "metadata": {},
     "output_type": "execute_result"
    }
   ],
   "source": [
    "\"\"\" regression works with numeric values,\n",
    "make sure you map all the string values in the data to some numeric value if required\n",
    "\"\"\"\n",
    "\n",
    "regressor.fit(train_X,train_Y)"
   ]
  },
  {
   "cell_type": "markdown",
   "metadata": {},
   "source": [
    "### Performance evaluation"
   ]
  },
  {
   "cell_type": "code",
   "execution_count": 116,
   "metadata": {},
   "outputs": [
    {
     "name": "stdout",
     "output_type": "stream",
     "text": [
      "Root Mean Square Error =  0.1391564237047013\n"
     ]
    }
   ],
   "source": [
    "\"\"\" complete the function RMSE \n",
    "    \n",
    "    The Root Mean Square Error is defined in the following way\n",
    "    sqrt(summation((y_pred[i]-y_true[i])^2)/N)\n",
    "    where:\n",
    "         i varies from 0 to N\n",
    "         \n",
    "    (use numpy)     \n",
    "\n",
    "\"\"\"\n",
    "\n",
    "def RMSE(y_pred,y_true):\n",
    "    \n",
    "    rmse = 0.0\n",
    "    \"\"\"finding rmse value as per above given instruction\"\"\"\n",
    "    rmse=np.sqrt(((y_pred-y_true)**2).mean())\n",
    "    # return rmse\n",
    "    \n",
    "    return rmse\n",
    "    \n",
    "    \n",
    "\n",
    "y_pred = regressor.predict(test_X)\n",
    "\n",
    "print(\"Root Mean Square Error = \",RMSE(y_pred,test_Y))\n",
    "\n"
   ]
  },
  {
   "cell_type": "markdown",
   "metadata": {},
   "source": [
    "\n",
    "# BONUS\n"
   ]
  },
  {
   "cell_type": "code",
   "execution_count": 110,
   "metadata": {},
   "outputs": [],
   "source": [
    "import matplotlib.pyplot as plt"
   ]
  },
  {
   "cell_type": "code",
   "execution_count": 111,
   "metadata": {},
   "outputs": [],
   "source": [
    "import seaborn as snp"
   ]
  },
  {
   "cell_type": "code",
   "execution_count": 112,
   "metadata": {},
   "outputs": [],
   "source": [
    "%matplotlib inline"
   ]
  },
  {
   "cell_type": "code",
   "execution_count": 113,
   "metadata": {},
   "outputs": [],
   "source": [
    "\"\"\"to make graph more visible\"\"\"\n",
    "snp.set_context('poster')"
   ]
  },
  {
   "cell_type": "code",
   "execution_count": 114,
   "metadata": {},
   "outputs": [],
   "source": [
    "\"\"\"setting threshold value for possitive test >.7\n",
    "   defining a function countt to count total possitive cases for every occupation where occupation are resembled by numbers\"\"\"\n",
    "l=list()\n",
    "def countt():\n",
    "    for i in data[\"Occupation\"].unique():\n",
    "        data2=data[data['Infect_Prob']>0.7]\n",
    "        l.append(data2[data2['Occupation']==i][\"Infect_Prob\"].count())\n",
    "countt()\n",
    "\n",
    "    "
   ]
  },
  {
   "cell_type": "code",
   "execution_count": 115,
   "metadata": {},
   "outputs": [
    {
     "data": {
      "text/plain": [
       "<matplotlib.axes._subplots.AxesSubplot at 0x25dcc380c08>"
      ]
     },
     "execution_count": 115,
     "metadata": {},
     "output_type": "execute_result"
    },
    {
     "data": {
      "image/png": "[encoded data removed]",
      "text/plain": [
       "<Figure size 432x288 with 1 Axes>"
      ]
     },
     "metadata": {
      "needs_background": "light"
     },
     "output_type": "display_data"
    }
   ],
   "source": [
    "snp.barplot(x=data[\"Occupation\"].unique(),y=l)"
   ]
  },
  {
   "cell_type": "code",
   "execution_count": null,
   "metadata": {},
   "outputs": [],
   "source": []
  }
 ],
 "metadata": {
  "kernelspec": {
   "display_name": "Python 3",
   "language": "python",
   "name": "python3"
  },
  "language_info": {
   "codemirror_mode": {
    "name": "ipython",
    "version": 3
   },
   "file_extension": ".py",
   "mimetype": "text/x-python",
   "name": "python",
   "nbconvert_exporter": "python",
   "pygments_lexer": "ipython3",
   "version": "3.7.4"
  }
 },
 "nbformat": 4,
 "nbformat_minor": 4
}
